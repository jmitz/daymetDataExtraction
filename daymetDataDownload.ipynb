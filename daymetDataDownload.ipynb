{
 "cells": [
  {
   "cell_type": "markdown",
   "metadata": {},
   "source": [
    "<h1>Daymet Data Download</h1>"
   ]
  },
  {
   "cell_type": "markdown",
   "metadata": {},
   "source": [
    "[Daymet data](https://daymet.ornl.gov/) can be extracted/downloaded in two ways. The nationwide or localized grid  can be downloaded; alternately, the data for particular grid cells can be extracted through a web interface."
   ]
  },
  {
   "cell_type": "markdown",
   "metadata": {},
   "source": [
    "<h2>Daymet Data Download - Nationwide Dataset</h2>"
   ]
  },
  {
   "cell_type": "markdown",
   "metadata": {},
   "source": [
    "<h3>Required Python libraries</h3>"
   ]
  },
  {
   "cell_type": "code",
   "execution_count": 1,
   "metadata": {
    "collapsed": true
   },
   "outputs": [],
   "source": [
    "import urllib\n",
    "import os\n",
    "from datetime import date as dt"
   ]
  },
  {
   "cell_type": "markdown",
   "metadata": {},
   "source": [
    "<h3>Parameters</h3>"
   ]
  },
  {
   "cell_type": "markdown",
   "metadata": {},
   "source": [
    "Range of years to download datasets.\n",
    "- startYear is the first year of data\n",
    "- endYear is the last year of data\n",
    "    - the default value for the last year is the current year."
   ]
  },
  {
   "cell_type": "code",
   "execution_count": 12,
   "metadata": {
    "collapsed": false
   },
   "outputs": [],
   "source": [
    "startYear = 2016          # First year of data extraction\n",
    "endYear = dt.today().year # Last year of data extraction Defaults to current year."
   ]
  },
  {
   "cell_type": "markdown",
   "metadata": {},
   "source": [
    "Local data file location\n",
    "- This is the base directory of the Daymet data which contains the [Daymet Data File Structure](#daymetDataStructure)."
   ]
  },
  {
   "cell_type": "code",
   "execution_count": 3,
   "metadata": {
    "collapsed": true
   },
   "outputs": [],
   "source": [
    "dataDir = \"..\\daymet\""
   ]
  },
  {
   "cell_type": "markdown",
   "metadata": {},
   "source": [
    "Set up the URL template information\n",
    "- This information is determined by the URL structure of the Oak Ridge National Laboratory (ORLN) file server. This is how we determine the file structure.\n",
    "  - Go to the [\"Daymet Data Sets List\" page](https://daac.ornl.gov/cgi-bin/dataset_lister.pl?p=32)\n",
    "  - In the Daymet Data Sets List there is a THREDDS column, the URL for each of the types of data (Annual, Daily, and Monthly) can be discovered.\n",
    "\n",
    ">> Annual -  https://thredds.daac.ornl.gov/thredds/catalog/ornldaac/1343/catalog.html\n",
    ">> Daily - https://thredds.daac.ornl.gov/thredds/catalog/ornldaac/1328/catalog.html\n",
    ">> Monthly - https://thredds.daac.ornl.gov/thredds/catalog/ornldaac/1345/catalog.html\n",
    "\n",
    "One important portion of these URLs is  \"https://thredds.daac.ornl.gov/thredds/catalog/ornldaac/\". The other important portion is the number which follows (current values Annual - 1343, Daily 1328, and Monthly - 1345.) These will need to be checked and updated as they change."
   ]
  },
  {
   "cell_type": "code",
   "execution_count": 4,
   "metadata": {
    "collapsed": true
   },
   "outputs": [],
   "source": [
    "urlBase = \"http://thredds.daac.ornl.gov/thredds/fileServer/ornldaac\""
   ]
  },
  {
   "cell_type": "markdown",
   "metadata": {},
   "source": [
    "<h2>Daymet Data Parameters and Time Frames</h2>"
   ]
  },
  {
   "cell_type": "markdown",
   "metadata": {},
   "source": [
    "<table>\n",
    "<tr>\n",
    "<th>Parameter Abbr</th><th>Data Type</th><th>Annual</th><th>Daily</th><th>Monthly</th>\n",
    "</tr><tr>\n",
    "<td>dayl</td><td>day length (s)</td><td></td><td>X</td><td></td>\n",
    "</tr><tr>\n",
    "<td>prcp</td><td>precipitation (mm/day)</td><td>X</td><td>X</td><td>X</td>\n",
    "</tr><tr>\n",
    "<td>srad</td><td>shortwave radiation (W/m<sup>2</sup>)</td><td></td><td>X</td><td></td>\n",
    "</tr><tr>\n",
    "<td>swe</td><td>snow water equivalent (kg/m<sup>2</sup>)</td><td></td><td>X</td><td></td>\n",
    "</tr><tr>\n",
    "<td>tmax</td><td>maximum temp (&deg;C)</td><td>X</td><td>X</td><td>X</td>\n",
    "</tr><tr>\n",
    "<td>tmin</td><td>minimum temp (&deg;C)</td><td>X</td><td>X</td><td>X</td>\n",
    "</tr><tr>\n",
    "<td>vp</td><td>humidity as water vapor pressure (Pa)</td><td>X</td><td>X</td><td>X</td>\n",
    "</tr>\n",
    "</table>"
   ]
  },
  {
   "cell_type": "markdown",
   "metadata": {},
   "source": [
    "<h2><a id='daymetDataStructure'>Daymet Data File Structure</a></h2>"
   ]
  },
  {
   "cell_type": "markdown",
   "metadata": {},
   "source": [
    "The following is a representation of the data structure for the Daymet data directory. The annual, monthly, and daily directories each contain directories which hold the parametric data for their identified type."
   ]
  },
  {
   "cell_type": "markdown",
   "metadata": {},
   "source": [
    "- Daymet\n",
    "    - Annual\n",
    "        - prcp\n",
    "        - tmax\n",
    "        - tmin\n",
    "        - vp\n",
    "    - Daily\n",
    "        - dayl\n",
    "        - prcp\n",
    "        - srad\n",
    "        - swe\n",
    "        - tmax\n",
    "        - tmin\n",
    "        - vp\n",
    "    - Monthly\n",
    "        - prcp\n",
    "        - tmax\n",
    "        - tmin\n",
    "        - vp"
   ]
  },
  {
   "cell_type": "markdown",
   "metadata": {
    "collapsed": true
   },
   "source": [
    "<h2>Execute Data Download</h2>"
   ]
  },
  {
   "cell_type": "markdown",
   "metadata": {},
   "source": [
    "This script should only need to be executed once a year. The data files being downloaded are HUGE. A single years worth of data is about 21.5 GB. The best idea for running this script is overnight or over a weekend. This should minimize limiting Internet access for other users."
   ]
  },
  {
   "cell_type": "markdown",
   "metadata": {},
   "source": [
    "The script should be executed from the python directory of the Daymet external drive. To do this:\n",
    "- Plug in Daymet external drive\n",
    "- Check which drive letter the external drive is assigned in Windows Explorer (for this example we will use F:)\n",
    "- Open a command prompt\n",
    "- Check that the appropriate version of Python is installed.\n",
    "    - The response should look like <code>conda 4.3.21</code>.\n",
    "    - An error will look like <code>'conda' is not recognized ....</code>\n",
    "        - If an error occurs you will need to install Anaconda try looking in the G:\\Software\\Python directory for installation instructions.\n"
   ]
  },
  {
   "cell_type": "code",
   "execution_count": 5,
   "metadata": {
    "collapsed": false
   },
   "outputs": [
    {
     "name": "stdout",
     "output_type": "stream",
     "text": [
      "conda 4.3.21\n"
     ]
    }
   ],
   "source": [
    "!conda --version"
   ]
  },
  {
   "cell_type": "code",
   "execution_count": 6,
   "metadata": {
    "collapsed": false
   },
   "outputs": [],
   "source": [
    "import daymetFileDownload as dfd"
   ]
  },
  {
   "cell_type": "markdown",
   "metadata": {},
   "source": [
    "Change the begin/end date values on the following to allow for download of data. Remember each year of data requires about 21.5 GB of storage and bandwidth. Do everyone a favor and run this over a weekend or at night. If a data file has already been downloaded the system will skip to the next file. Currently the system has all the data from 1980 to 2015."
   ]
  },
  {
   "cell_type": "code",
   "execution_count": 13,
   "metadata": {
    "collapsed": false
   },
   "outputs": [
    {
     "name": "stdout",
     "output_type": "stream",
     "text": [
      "Skipping 2016 - dayl\n",
      "Skipping 2016 - prcp\n",
      "Skipping 2016 - srad\n",
      "Skipping 2016 - swe\n",
      "Skipping 2016 - tmax\n",
      "Skipping 2016 - tmin\n",
      "Skipping 2016 - vp\n",
      "Skipping 2016 - prcp - monttl\n",
      "Skipping 2016 - tmax - monavg\n",
      "Skipping 2016 - tmin - monavg\n",
      "Skipping 2016 - vp - monavg\n",
      "Skipping 2016 - prcp - anlttl\n",
      "Skipping 2016 - tmax - anlavg\n",
      "Skipping 2016 - tmin - anlavg\n",
      "Skipping 2016 - vp - anlavg\n"
     ]
    }
   ],
   "source": [
    "dfd.downloadDaymet(startYear, endYear)"
   ]
  },
  {
   "cell_type": "markdown",
   "metadata": {},
   "source": [
    "<h2>File Listing of [daymetFileDownload.py](FileListingOf_daymetFileDownload.py.ipynb)</h2>"
   ]
  }
 ],
 "metadata": {
  "kernelspec": {
   "display_name": "Python 3",
   "language": "python",
   "name": "python3"
  },
  "language_info": {
   "codemirror_mode": {
    "name": "ipython",
    "version": 3
   },
   "file_extension": ".py",
   "mimetype": "text/x-python",
   "name": "python",
   "nbconvert_exporter": "python",
   "pygments_lexer": "ipython3",
   "version": "3.6.0"
  }
 },
 "nbformat": 4,
 "nbformat_minor": 2
}
